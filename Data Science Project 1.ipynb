{
 "cells": [
  {
   "cell_type": "markdown",
   "id": "cc941c18",
   "metadata": {},
   "source": [
    "# Student Portfolio"
   ]
  },
  {
   "cell_type": "code",
   "execution_count": 1,
   "id": "ac6b6bd7",
   "metadata": {},
   "outputs": [],
   "source": [
    "# Take input from Student"
   ]
  },
  {
   "cell_type": "code",
   "execution_count": 2,
   "id": "b3ccdffc",
   "metadata": {},
   "outputs": [],
   "source": [
    "#Student Name, Std, Div, Roll no, Any 3 subjects"
   ]
  },
  {
   "cell_type": "code",
   "execution_count": 8,
   "id": "d25f0d19",
   "metadata": {},
   "outputs": [
    {
     "name": "stdout",
     "output_type": "stream",
     "text": [
      "********************\n",
      "Enter student name: Atharva Amrapurkar\n",
      "Enter the class: 12\n",
      "Enter the division: 1\n",
      "Enter Roll Number: 123\n",
      "Enter the Name of Subject 1: Math\n",
      "Enter the Name of Subject 2: Science\n",
      "Enter the Name of Subject 3: Geo\n",
      "Enter percentage (%): 94\n",
      "********************\n"
     ]
    }
   ],
   "source": [
    "print(\"*\"*20)\n",
    "Name = input(\"Enter student name: \")\n",
    "Std = int(input(\"Enter the class: \"))\n",
    "Div = input(\"Enter the division: \")\n",
    "Rollno = int(input(\"Enter Roll Number: \"))\n",
    "sub1 = input(\"Enter the Name of Subject 1: \")\n",
    "sub2 = input(\"Enter the Name of Subject 2: \")\n",
    "sub3 = input(\"Enter the Name of Subject 3: \")\n",
    "percentage = float(input(\"Enter percentage (%): \"))\n",
    "print(\"*\"*20)"
   ]
  },
  {
   "cell_type": "code",
   "execution_count": 11,
   "id": "d6e528e7",
   "metadata": {},
   "outputs": [
    {
     "name": "stdout",
     "output_type": "stream",
     "text": [
      "####################\n",
      "ATHARVA AMRAPURKAR\n",
      "12\n",
      "1\n",
      "123\n",
      "MATH\n",
      "SCIENCE\n",
      "GEO\n",
      "Congratulations! You've Passed the exam with 94.0 percentage\n",
      "####################\n"
     ]
    }
   ],
   "source": [
    "print(\"#\"*20)\n",
    "print(Name.upper())\n",
    "print(Std)\n",
    "print(Div.upper())\n",
    "print(Rollno)\n",
    "print(sub1.upper())\n",
    "print(sub2.upper())\n",
    "print(sub3.upper())\n",
    "if(percentage>=40):\n",
    "    print(\"Congratulations! You've Passed the exam with \"+str(percentage)+\" percentage\")\n",
    "else:\n",
    "    print(\"You've Failed the exam! try again next time\")\n",
    "print(\"#\"*20)"
   ]
  },
  {
   "cell_type": "code",
   "execution_count": null,
   "id": "0552f140",
   "metadata": {},
   "outputs": [],
   "source": []
  }
 ],
 "metadata": {
  "kernelspec": {
   "display_name": "Python 3",
   "language": "python",
   "name": "python3"
  },
  "language_info": {
   "codemirror_mode": {
    "name": "ipython",
    "version": 3
   },
   "file_extension": ".py",
   "mimetype": "text/x-python",
   "name": "python",
   "nbconvert_exporter": "python",
   "pygments_lexer": "ipython3",
   "version": "3.8.8"
  }
 },
 "nbformat": 4,
 "nbformat_minor": 5
}
